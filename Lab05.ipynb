{
 "cells": [
  {
   "cell_type": "markdown",
   "metadata": {},
   "source": [
    "## **Lab 05 - Tasks**\n"
   ]
  },
  {
   "cell_type": "markdown",
   "metadata": {},
   "source": [
    "### **Activity 1**\n"
   ]
  },
  {
   "cell_type": "code",
   "execution_count": 1,
   "metadata": {},
   "outputs": [
    {
     "name": "stdout",
     "output_type": "stream",
     "text": [
      "Visited nodes: {0, 1, 2, 3, 4, 5, 6}\n"
     ]
    }
   ],
   "source": [
    "from collections import deque\n",
    "\n",
    "graph = {\n",
    "    0: [1, 2, 3],\n",
    "    1: [0, 2, 5],\n",
    "    2: [0, 1, 3, 4, 5, 6],\n",
    "    3: [0, 2, 4],\n",
    "    4: [2, 3, 6],\n",
    "    5: [1, 2],\n",
    "    6: [2, 4]\n",
    "}\n",
    "\n",
    "\n",
    "def connected_component(graph, start):\n",
    "    queue = deque([start])\n",
    "    visited = set()\n",
    "\n",
    "    # Perform BFS\n",
    "    while queue:\n",
    "        node = queue.popleft()\n",
    "        if node not in visited:\n",
    "            visited.add(node)\n",
    "            for neighbor in sorted(graph[node]):\n",
    "                if neighbor not in visited:\n",
    "                    queue.append(neighbor)\n",
    "\n",
    "    return visited\n",
    "\n",
    "\n",
    "# Call the function starting from node 0\n",
    "visited_nodes = connected_component(graph, 0)\n",
    "print(\"Visited nodes:\", visited_nodes)"
   ]
  },
  {
   "cell_type": "markdown",
   "metadata": {},
   "source": [
    "### **Activity 2**\n"
   ]
  },
  {
   "cell_type": "code",
   "execution_count": 5,
   "metadata": {},
   "outputs": [
    {
     "name": "stdout",
     "output_type": "stream",
     "text": [
      "Open List: []\n",
      "Closed List: [1, 2, 3, 4, 5, 6, 7, 8, 9, 10]\n",
      "Path: [1, 3, 7, 10]\n"
     ]
    }
   ],
   "source": [
    "from collections import deque\n",
    "\n",
    "\n",
    "def bfs(graph, start, goal):\n",
    "    open_list = deque([start])\n",
    "    closed_list = []\n",
    "    parent = {start: None}\n",
    "\n",
    "    while open_list:\n",
    "        current_node = open_list.popleft()\n",
    "        closed_list.append(current_node)\n",
    "\n",
    "        if current_node == goal:\n",
    "            path = []\n",
    "            while current_node is not None:\n",
    "                path.append(current_node)\n",
    "                current_node = parent[current_node]\n",
    "            path.reverse()\n",
    "            return open_list, closed_list, path\n",
    "\n",
    "        for neighbor in graph.get(current_node, []):\n",
    "            if neighbor not in closed_list and neighbor not in open_list:\n",
    "                open_list.append(neighbor)\n",
    "                parent[neighbor] = current_node\n",
    "\n",
    "    return open_list, closed_list, None\n",
    "\n",
    "\n",
    "# Define the graph\n",
    "graph = {\n",
    "    1: [2, 3],\n",
    "    2: [4, 5],\n",
    "    3: [6, 7],\n",
    "    5: [8, 9],\n",
    "    7: [10],\n",
    "}\n",
    "\n",
    "# Apply BFS\n",
    "start = 1\n",
    "goal = 10\n",
    "open_list, closed_list, path = bfs(graph, start, goal)\n",
    "\n",
    "print(\"Open List:\", list(open_list))\n",
    "print(\"Closed List:\", closed_list)\n",
    "print(\"Path:\", path)"
   ]
  },
  {
   "cell_type": "markdown",
   "metadata": {},
   "source": [
    "### **Activity 3**\n"
   ]
  },
  {
   "cell_type": "code",
   "execution_count": 7,
   "metadata": {},
   "outputs": [
    {
     "name": "stdout",
     "output_type": "stream",
     "text": [
      "Open List: []\n",
      "Closed List: [1, 2, 3, 4, 5, 6, 7, 8, 9, 10]\n",
      "Path: [1, 3, 7, 10]\n"
     ]
    }
   ],
   "source": [
    "from collections import deque\n",
    "\n",
    "\n",
    "def bfs(graph, start, goal):\n",
    "    open_list = deque([start])\n",
    "    closed_list = []\n",
    "    parent = {start: None}\n",
    "\n",
    "    while open_list:\n",
    "        current_node = open_list.popleft()\n",
    "        closed_list.append(current_node)\n",
    "\n",
    "        if current_node == goal:\n",
    "            path = []\n",
    "            while current_node is not None:\n",
    "                path.append(current_node)\n",
    "                current_node = parent[current_node]\n",
    "            path.reverse()\n",
    "            return open_list, closed_list, path\n",
    "\n",
    "        for neighbor in graph.get(current_node, []):\n",
    "            if neighbor not in closed_list and neighbor not in open_list:\n",
    "                open_list.append(neighbor)\n",
    "                parent[neighbor] = current_node\n",
    "\n",
    "    return open_list, closed_list, None\n",
    "\n",
    "\n",
    "# Define the graph\n",
    "graph = {\n",
    "    1: [2, 3],\n",
    "    2: [4, 5],\n",
    "    3: [6, 7],\n",
    "    5: [8, 9],\n",
    "    7: [10],\n",
    "}\n",
    "\n",
    "start = int(input(\"Enter the start node: \"))\n",
    "goal = int(input(\"Enter the goal node: \"))\n",
    "open_list, closed_list, path = bfs(graph, start, goal)\n",
    "\n",
    "print(\"Open List:\", list(open_list))\n",
    "print(\"Closed List:\", closed_list)\n",
    "print(\"Path:\", path)"
   ]
  },
  {
   "cell_type": "markdown",
   "metadata": {},
   "source": [
    "### **Activity 4**\n"
   ]
  },
  {
   "cell_type": "code",
   "execution_count": 12,
   "metadata": {},
   "outputs": [
    {
     "name": "stdout",
     "output_type": "stream",
     "text": [
      "Open Stack: []\n",
      "Closed List: [1, 2, 4, 5, 8, 9, 3, 6, 7, 10]\n",
      "Path: [1, 3, 7, 10]\n"
     ]
    }
   ],
   "source": [
    "def dfs(graph, start, goal):\n",
    "    open_stack = [start]\n",
    "    closed_list = []\n",
    "    parent = {start: None}\n",
    "\n",
    "    while open_stack:\n",
    "        current_node = open_stack.pop()\n",
    "        closed_list.append(current_node)\n",
    "\n",
    "        if current_node == goal:\n",
    "            path = []\n",
    "            while current_node is not None:\n",
    "                path.append(current_node)\n",
    "                current_node = parent[current_node]\n",
    "            path.reverse()\n",
    "            return open_stack, closed_list, path\n",
    "\n",
    "        for neighbor in reversed(graph.get(current_node, [])):\n",
    "            if neighbor not in closed_list and neighbor not in open_stack:\n",
    "                open_stack.append(neighbor)\n",
    "                parent[neighbor] = current_node\n",
    "\n",
    "    return open_stack, closed_list, None\n",
    "\n",
    "\n",
    "graph = {\n",
    "    1: [2, 3],\n",
    "    2: [4, 5],\n",
    "    3: [6, 7],\n",
    "    5: [8, 9],\n",
    "    7: [10],\n",
    "}\n",
    "\n",
    "start = 1\n",
    "goal = 10\n",
    "open_stack, closed_list, path = dfs(graph, start, goal)\n",
    "\n",
    "print(\"Open Stack:\", open_stack)\n",
    "print(\"Closed List:\", closed_list)\n",
    "print(\"Path:\", path)"
   ]
  },
  {
   "cell_type": "markdown",
   "metadata": {},
   "source": [
    "### **Activity 5**\n"
   ]
  },
  {
   "cell_type": "code",
   "execution_count": 13,
   "metadata": {},
   "outputs": [
    {
     "name": "stdout",
     "output_type": "stream",
     "text": [
      "Open Stack: []\n",
      "Closed List: [1, 2, 4, 5, 8, 9, 3, 6, 7, 10]\n",
      "Path: [1, 3, 7, 10]\n"
     ]
    }
   ],
   "source": [
    "def dfs(graph, start, goal):\n",
    "    open_stack = [start]\n",
    "    closed_list = []\n",
    "    parent = {start: None}\n",
    "\n",
    "    while open_stack:\n",
    "        current_node = open_stack.pop()\n",
    "        closed_list.append(current_node)\n",
    "\n",
    "        if current_node == goal:\n",
    "            path = []\n",
    "            while current_node is not None:\n",
    "                path.append(current_node)\n",
    "                current_node = parent[current_node]\n",
    "            path.reverse()\n",
    "            return open_stack, closed_list, path\n",
    "\n",
    "        for neighbor in reversed(graph.get(current_node, [])):\n",
    "            if neighbor not in closed_list and neighbor not in open_stack:\n",
    "                open_stack.append(neighbor)\n",
    "                parent[neighbor] = current_node\n",
    "\n",
    "    return open_stack, closed_list, None\n",
    "\n",
    "\n",
    "graph = {\n",
    "    1: [2, 3],\n",
    "    2: [4, 5],\n",
    "    3: [6, 7],\n",
    "    5: [8, 9],\n",
    "    7: [10],\n",
    "}\n",
    "\n",
    "start = int(input(\"Enter the start node: \"))\n",
    "goal = int(input(\"Enter the goal node: \"))\n",
    "open_stack, closed_list, path = dfs(graph, start, goal)\n",
    "\n",
    "print(\"Open Stack:\", open_stack)\n",
    "print(\"Closed List:\", closed_list)\n",
    "print(\"Path:\", path)"
   ]
  },
  {
   "cell_type": "markdown",
   "metadata": {},
   "source": [
    "### **Activity 06**\n"
   ]
  },
  {
   "cell_type": "code",
   "execution_count": 16,
   "metadata": {},
   "outputs": [
    {
     "name": "stdout",
     "output_type": "stream",
     "text": [
      "Open List: []\n",
      "Closed List: ['A', 'B', 'F', 'C', 'D', 'E', 'G', 'K']\n",
      "Path: ['A', 'B', 'G', 'K']\n"
     ]
    }
   ],
   "source": [
    "from collections import deque\n",
    "\n",
    "\n",
    "def bfs(graph, start, goal):\n",
    "    open_list = deque([start])\n",
    "    closed_list = []\n",
    "    parent = {start: None}\n",
    "\n",
    "    while open_list:\n",
    "        current_node = open_list.popleft()\n",
    "        closed_list.append(current_node)\n",
    "        if current_node == goal:\n",
    "            path = []\n",
    "            while current_node is not None:\n",
    "                path.append(current_node)\n",
    "                current_node = parent[current_node]\n",
    "            path.reverse()\n",
    "            return open_list, closed_list, path\n",
    "\n",
    "        for neighbor in graph.get(current_node, []):\n",
    "            if neighbor not in closed_list and neighbor not in open_list:\n",
    "                open_list.append(neighbor)\n",
    "                parent[neighbor] = current_node\n",
    "\n",
    "    return open_list, closed_list, None\n",
    "\n",
    "\n",
    "graph = {\n",
    "    'A': ['B', 'F', 'C'],\n",
    "    'B': ['D', 'E', 'G'],\n",
    "    'C': ['F'],\n",
    "    'D': [],\n",
    "    'E': [],\n",
    "    'F': ['C'],\n",
    "    'G': ['K'],\n",
    "    'K': []\n",
    "}\n",
    "\n",
    "start = 'A'\n",
    "goal = 'K'\n",
    "open_list, closed_list, path = bfs(graph, start, goal)\n",
    "\n",
    "print(\"Open List:\", list(open_list))\n",
    "print(\"Closed List:\", closed_list)\n",
    "print(\"Path:\", path)"
   ]
  },
  {
   "cell_type": "markdown",
   "metadata": {},
   "source": [
    "### **Activity 7**\n"
   ]
  },
  {
   "cell_type": "code",
   "execution_count": 17,
   "metadata": {},
   "outputs": [
    {
     "name": "stdout",
     "output_type": "stream",
     "text": [
      "Open Stack: ['C', 'F']\n",
      "Closed List: ['A', 'B', 'D', 'E', 'G', 'K']\n",
      "Path: ['A', 'B', 'G', 'K']\n"
     ]
    }
   ],
   "source": [
    "def dfs(graph, start, goal):\n",
    "    open_stack = [start]\n",
    "    closed_list = []\n",
    "    parent = {start: None}\n",
    "\n",
    "    while open_stack:\n",
    "        current_node = open_stack.pop()\n",
    "        closed_list.append(current_node)\n",
    "\n",
    "        if current_node == goal:\n",
    "            path = []\n",
    "            while current_node is not None:\n",
    "                path.append(current_node)\n",
    "                current_node = parent[current_node]\n",
    "            path.reverse()\n",
    "            return open_stack, closed_list, path\n",
    "\n",
    "        for neighbor in reversed(graph.get(current_node, [])):\n",
    "            if neighbor not in closed_list and neighbor not in open_stack:\n",
    "                open_stack.append(neighbor)\n",
    "                parent[neighbor] = current_node\n",
    "\n",
    "    return open_stack, closed_list, None\n",
    "\n",
    "\n",
    "graph = {\n",
    "    'A': ['B', 'F', 'C'],\n",
    "    'B': ['D', 'E', 'G'],\n",
    "    'C': ['F'],\n",
    "    'D': [],\n",
    "    'E': [],\n",
    "    'F': ['C'],\n",
    "    'G': ['K'],\n",
    "    'K': []\n",
    "}\n",
    "\n",
    "start = 'A'\n",
    "goal = 'K'\n",
    "open_stack, closed_list, path = dfs(graph, start, goal)\n",
    "\n",
    "print(\"Open Stack:\", open_stack)\n",
    "print(\"Closed List:\", closed_list)\n",
    "print(\"Path:\", path)"
   ]
  }
 ],
 "metadata": {
  "kernelspec": {
   "display_name": "Python 3",
   "language": "python",
   "name": "python3"
  },
  "language_info": {
   "codemirror_mode": {
    "name": "ipython",
    "version": 3
   },
   "file_extension": ".py",
   "mimetype": "text/x-python",
   "name": "python",
   "nbconvert_exporter": "python",
   "pygments_lexer": "ipython3",
   "version": "3.11.5"
  }
 },
 "nbformat": 4,
 "nbformat_minor": 2
}
