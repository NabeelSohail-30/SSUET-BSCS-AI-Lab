{
 "cells": [
  {
   "cell_type": "markdown",
   "metadata": {},
   "source": [
    "## **Lab 13 - Tasks**\n"
   ]
  },
  {
   "cell_type": "markdown",
   "metadata": {},
   "source": [
    "Activity 1: Load an image in grayscale, display it, and save it\n"
   ]
  },
  {
   "cell_type": "code",
   "execution_count": 2,
   "metadata": {},
   "outputs": [],
   "source": [
    "import cv2\n",
    "\n",
    "# Load an image in grayscale\n",
    "image = cv2.imread(\n",
    "    'img01.jpg', cv2.IMREAD_GRAYSCALE)\n",
    "\n",
    "# Display the image\n",
    "cv2.imshow('Grayscale Image', image)\n",
    "cv2.waitKey(0)  # Wait for a key press to close the window\n",
    "cv2.destroyAllWindows()\n",
    "\n",
    "# Save the grayscale image\n",
    "cv2.imwrite('grayscale_image.jpg', image)"
   ]
  },
  {
   "cell_type": "markdown",
   "metadata": {},
   "source": [
    "Activity 2: Load a colored image, convert it to grayscale, resize it, and save it\n"
   ]
  },
  {
   "cell_type": "code",
   "execution_count": null,
   "metadata": {},
   "outputs": [],
   "source": [
    "import cv2\n",
    "\n",
    "# Load a colored image\n",
    "image = cv2.imread('img02.jpg')\n",
    "\n",
    "# Convert the image to grayscale\n",
    "gray_image = cv2.cvtColor(image, cv2.COLOR_BGR2GRAY)\n",
    "\n",
    "# Resize the grayscale image\n",
    "resized_image = cv2.resize(gray_image, (300, 300))  # Resize to 300x300 pixels\n",
    "\n",
    "# Save the resized grayscale image\n",
    "cv2.imwrite('resized_grayscale_image.jpg', resized_image)"
   ]
  }
 ],
 "metadata": {
  "kernelspec": {
   "display_name": "Python 3",
   "language": "python",
   "name": "python3"
  },
  "language_info": {
   "codemirror_mode": {
    "name": "ipython",
    "version": 3
   },
   "file_extension": ".py",
   "mimetype": "text/x-python",
   "name": "python",
   "nbconvert_exporter": "python",
   "pygments_lexer": "ipython3",
   "version": "3.12.4"
  }
 },
 "nbformat": 4,
 "nbformat_minor": 2
}
