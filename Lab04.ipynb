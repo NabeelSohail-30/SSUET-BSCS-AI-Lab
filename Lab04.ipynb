{
 "cells": [
  {
   "cell_type": "markdown",
   "metadata": {},
   "source": [
    "## **Lab 04 - Tasks**\n"
   ]
  },
  {
   "cell_type": "markdown",
   "metadata": {},
   "source": [
    "### **Activity 1**\n"
   ]
  },
  {
   "cell_type": "code",
   "execution_count": 1,
   "metadata": {},
   "outputs": [
    {
     "name": "stdout",
     "output_type": "stream",
     "text": [
      "3\n",
      "2\n",
      "1\n"
     ]
    }
   ],
   "source": [
    "import queue\n",
    "\n",
    "lifo_queue = queue.LifoQueue()\n",
    "\n",
    "lifo_queue.put(1)\n",
    "lifo_queue.put(2)\n",
    "lifo_queue.put(3)\n",
    "\n",
    "print(lifo_queue.get())\n",
    "print(lifo_queue.get())\n",
    "print(lifo_queue.get())"
   ]
  },
  {
   "cell_type": "markdown",
   "metadata": {},
   "source": [
    "### **Activity 2**\n"
   ]
  },
  {
   "cell_type": "code",
   "execution_count": 3,
   "metadata": {},
   "outputs": [
    {
     "name": "stdout",
     "output_type": "stream",
     "text": [
      "Initial state:\n",
      "[]\n",
      "[4]\n",
      "[8, 4]\n",
      "[8, 4, 1]\n",
      "[8, 7, 4, 1]\n",
      "[8, 7, 4, 3, 1]\n"
     ]
    }
   ],
   "source": [
    "import heapq\n",
    "\n",
    "\n",
    "def visualize_heap(heap):\n",
    "    copy = [-x for x in heap]\n",
    "    copy.sort(reverse=True)\n",
    "    print(copy)\n",
    "\n",
    "\n",
    "max_heap = []\n",
    "\n",
    "elements = [4, 8, 1, 7, 3]\n",
    "\n",
    "print(\"Initial state:\")\n",
    "visualize_heap(max_heap)\n",
    "\n",
    "for element in elements:\n",
    "    heapq.heappush(max_heap, -element)\n",
    "    visualize_heap(max_heap)"
   ]
  },
  {
   "cell_type": "markdown",
   "metadata": {},
   "source": [
    "### **Activity 3**\n"
   ]
  },
  {
   "cell_type": "code",
   "execution_count": 8,
   "metadata": {},
   "outputs": [
    {
     "name": "stdout",
     "output_type": "stream",
     "text": [
      "\n",
      "Retrieving students for presentations based on priority:\n",
      "Student with roll number 1 is next to present.\n",
      "Student with roll number 3 is next to present.\n",
      "Student with roll number 4 is next to present.\n",
      "Student with roll number 7 is next to present.\n",
      "Student with roll number 8 is next to present.\n"
     ]
    }
   ],
   "source": [
    "import heapq\n",
    "\n",
    "\n",
    "class PriorityQueue:\n",
    "    def __init__(self):\n",
    "        self.heap = []\n",
    "\n",
    "    def insert(self, roll_number):\n",
    "        heapq.heappush(self.heap, roll_number)\n",
    "\n",
    "    def get_next(self):\n",
    "        if not self.is_empty():\n",
    "            return heapq.heappop(self.heap)\n",
    "        else:\n",
    "            return \"The priority queue is empty.\"\n",
    "\n",
    "    def is_empty(self):\n",
    "        return len(self.heap) == 0\n",
    "\n",
    "\n",
    "pq = PriorityQueue()\n",
    "\n",
    "roll_numbers = [4, 8, 1, 7, 3]\n",
    "\n",
    "for roll_number in roll_numbers:\n",
    "    pq.insert(roll_number)\n",
    "\n",
    "print(\"\\nRetrieving students for presentations based on priority:\")\n",
    "while not pq.is_empty():\n",
    "    next_student = pq.get_next()\n",
    "    print(f\"Student with roll number {next_student} is next to present.\")"
   ]
  },
  {
   "cell_type": "markdown",
   "metadata": {},
   "source": [
    "### **Activity 4**\n"
   ]
  },
  {
   "cell_type": "code",
   "execution_count": 9,
   "metadata": {},
   "outputs": [
    {
     "name": "stdout",
     "output_type": "stream",
     "text": [
      "Inserted (Nabeel, 85) into the heap.\n",
      "Inserted (Chandio, 90) into the heap.\n",
      "Inserted (Ahsan, 78) into the heap.\n",
      "Inserted (Zoha, 92) into the heap.\n",
      "Inserted (Laiba, 88) into the heap.\n",
      "Current state of the heap:\n",
      "('Zoha', 92)\n",
      "('Chandio', 90)\n",
      "('Ahsan', 78)\n",
      "('Nabeel', 85)\n",
      "('Laiba', 88)\n",
      "\n",
      "Students from highest to lowest marks:\n",
      "Zoha 92\n",
      "Chandio 90\n",
      "Laiba 88\n",
      "Nabeel 85\n",
      "Ahsan 78\n"
     ]
    }
   ],
   "source": [
    "import heapq\n",
    "\n",
    "\n",
    "class StudentMaxHeap:\n",
    "    def __init__(self):\n",
    "        self.heap = []\n",
    "\n",
    "    def insert(self, name, marks):\n",
    "        heapq.heappush(self.heap, (-marks, name))\n",
    "        print(f\"Inserted ({name}, {marks}) into the heap.\")\n",
    "\n",
    "    def print_heap(self):\n",
    "        print(\"Current state of the heap:\")\n",
    "        for marks, name in self.heap:\n",
    "            print((name, -marks))\n",
    "\n",
    "    def print_students_highest_to_lowest(self):\n",
    "        print(\"\\nStudents from highest to lowest marks:\")\n",
    "        while self.heap:\n",
    "            marks, name = heapq.heappop(self.heap)\n",
    "            print(name, -marks)\n",
    "\n",
    "\n",
    "student_heap = StudentMaxHeap()\n",
    "\n",
    "students = [\n",
    "    (\"Nabeel\", 85),\n",
    "    (\"Chandio\", 90),\n",
    "    (\"Ahsan\", 78),\n",
    "    (\"Zoha\", 92),\n",
    "    (\"Laiba\", 88)\n",
    "]\n",
    "\n",
    "for name, marks in students:\n",
    "    student_heap.insert(name, marks)\n",
    "\n",
    "student_heap.print_heap()\n",
    "\n",
    "student_heap.print_students_highest_to_lowest()"
   ]
  }
 ],
 "metadata": {
  "kernelspec": {
   "display_name": "Python 3",
   "language": "python",
   "name": "python3"
  },
  "language_info": {
   "codemirror_mode": {
    "name": "ipython",
    "version": 3
   },
   "file_extension": ".py",
   "mimetype": "text/x-python",
   "name": "python",
   "nbconvert_exporter": "python",
   "pygments_lexer": "ipython3",
   "version": "3.11.5"
  }
 },
 "nbformat": 4,
 "nbformat_minor": 2
}
