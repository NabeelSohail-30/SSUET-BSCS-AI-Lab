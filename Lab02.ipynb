{
 "cells": [
  {
   "cell_type": "markdown",
   "metadata": {},
   "source": [
    "## **Lab 02 - Tasks**\n"
   ]
  },
  {
   "cell_type": "markdown",
   "metadata": {},
   "source": [
    "### **Activity 1**\n"
   ]
  },
  {
   "cell_type": "code",
   "execution_count": 1,
   "metadata": {},
   "outputs": [
    {
     "name": "stdout",
     "output_type": "stream",
     "text": [
      "first_name: John\n",
      "last_name: Doe\n",
      "age: 30\n",
      "city: New York\n"
     ]
    }
   ],
   "source": [
    "person_info = {\n",
    "    \"first_name\": \"John\",\n",
    "    \"last_name\": \"Doe\",\n",
    "    \"age\": 30,\n",
    "    \"city\": \"New York\"\n",
    "}\n",
    "\n",
    "for key, value in person_info.items():\n",
    "    print(f\"{key}: {value}\")"
   ]
  },
  {
   "cell_type": "markdown",
   "metadata": {},
   "source": [
    "### **Activity 2**\n"
   ]
  },
  {
   "cell_type": "code",
   "execution_count": 2,
   "metadata": {},
   "outputs": [
    {
     "data": {
      "text/plain": [
       "{'John': 'first_name', 'Doe': 'last_name', 30: 'age', 'New York': 'city'}"
      ]
     },
     "execution_count": 2,
     "metadata": {},
     "output_type": "execute_result"
    }
   ],
   "source": [
    "def transform_dict(input_dict):\n",
    "    if len(set(input_dict.values())) != len(input_dict):\n",
    "        return {}\n",
    "    else:\n",
    "        return {value: key for key, value in input_dict.items()}\n",
    "\n",
    "\n",
    "transform_dict(person_info)"
   ]
  },
  {
   "cell_type": "markdown",
   "metadata": {},
   "source": [
    "### **Activity 3**\n"
   ]
  },
  {
   "cell_type": "code",
   "execution_count": 4,
   "metadata": {},
   "outputs": [
    {
     "name": "stdout",
     "output_type": "stream",
     "text": [
      "Pizza\n",
      "Burger\n",
      "Salad\n",
      "Pasta\n",
      "Soup\n"
     ]
    }
   ],
   "source": [
    "foods = ('Pizza', 'Burger', 'Salad', 'Pasta', 'Soup')\n",
    "for food in foods:\n",
    "    print(food)\n",
    "\n",
    "# Attempting to modify a tuple (which is immutable) will result in an error\n",
    "# foods[0] = 'Sushi'"
   ]
  },
  {
   "cell_type": "markdown",
   "metadata": {},
   "source": [
    "### **Activity 4**\n"
   ]
  },
  {
   "cell_type": "code",
   "execution_count": 5,
   "metadata": {},
   "outputs": [
    {
     "name": "stdout",
     "output_type": "stream",
     "text": [
      "Dear Alice, you are invited to dinner.\n",
      "Dear Bob, you are invited to dinner.\n",
      "Dear Charlie, you are invited to dinner.\n"
     ]
    }
   ],
   "source": [
    "guests = ['Alice', 'Bob', 'Charlie']\n",
    "for guest in guests:\n",
    "    print(f\"Dear {guest}, you are invited to dinner.\")"
   ]
  },
  {
   "cell_type": "markdown",
   "metadata": {},
   "source": [
    "### **Activity 05**\n"
   ]
  },
  {
   "cell_type": "code",
   "execution_count": 6,
   "metadata": {},
   "outputs": [
    {
     "name": "stdout",
     "output_type": "stream",
     "text": [
      "Dear Alice, you are invited to dinner.\n",
      "Dear David, you are invited to dinner.\n",
      "Dear Charlie, you are invited to dinner.\n"
     ]
    }
   ],
   "source": [
    "guests[1] = 'David'\n",
    "for guest in guests:\n",
    "    print(f\"Dear {guest}, you are invited to dinner.\")"
   ]
  },
  {
   "cell_type": "markdown",
   "metadata": {},
   "source": [
    "### **Activity 06**\n"
   ]
  },
  {
   "cell_type": "code",
   "execution_count": 7,
   "metadata": {},
   "outputs": [
    {
     "name": "stdout",
     "output_type": "stream",
     "text": [
      "{'EVEN': [36, 4, 2], 'ODD': [25, 45, 1]}\n"
     ]
    }
   ],
   "source": [
    "numbers = [int(input(\"Enter number: \")) for _ in range(6)]\n",
    "even_odd_dict = {'EVEN': [], 'ODD': []}\n",
    "for num in numbers:\n",
    "    if num % 2 == 0:\n",
    "        even_odd_dict['EVEN'].append(num)\n",
    "    else:\n",
    "        even_odd_dict['ODD'].append(num)\n",
    "print(even_odd_dict)"
   ]
  },
  {
   "cell_type": "markdown",
   "metadata": {},
   "source": [
    "### **Activity 07**\n"
   ]
  },
  {
   "cell_type": "code",
   "execution_count": 8,
   "metadata": {},
   "outputs": [
    {
     "name": "stdout",
     "output_type": "stream",
     "text": [
      "New York\n",
      "Los Angeles\n",
      "San Francisco\n",
      "Chicago\n"
     ]
    }
   ],
   "source": [
    "def count_now(places):\n",
    "    for place in places:\n",
    "        if len(place) > 5:\n",
    "            print(place)\n",
    "\n",
    "\n",
    "places = ['New York', 'Los Angeles', 'San Francisco', 'Chicago', 'Miami']\n",
    "\n",
    "count_now(places)"
   ]
  },
  {
   "cell_type": "markdown",
   "metadata": {},
   "source": [
    "### **Activity 08**\n"
   ]
  },
  {
   "cell_type": "code",
   "execution_count": 9,
   "metadata": {},
   "outputs": [
    {
     "name": "stdout",
     "output_type": "stream",
     "text": [
      "25\n",
      "20\n"
     ]
    }
   ],
   "source": [
    "def ComputeOddSum(num):\n",
    "    return sum(i for i in range(num) if i % 2 != 0)\n",
    "\n",
    "\n",
    "def ComputeEvenSum(num):\n",
    "    return sum(i for i in range(num) if i % 2 == 0)\n",
    "\n",
    "\n",
    "print(ComputeOddSum(10))\n",
    "\n",
    "print(ComputeEvenSum(10))"
   ]
  },
  {
   "cell_type": "markdown",
   "metadata": {},
   "source": [
    "### **Activity 09**\n"
   ]
  },
  {
   "cell_type": "code",
   "execution_count": 10,
   "metadata": {},
   "outputs": [
    {
     "name": "stdout",
     "output_type": "stream",
     "text": [
      "55\n"
     ]
    }
   ],
   "source": [
    "def recursive_sum(n):\n",
    "    if n == 0:\n",
    "        return 0\n",
    "    else:\n",
    "        return n + recursive_sum(n - 1)\n",
    "\n",
    "\n",
    "print(recursive_sum(10))"
   ]
  }
 ],
 "metadata": {
  "kernelspec": {
   "display_name": "Python 3",
   "language": "python",
   "name": "python3"
  },
  "language_info": {
   "codemirror_mode": {
    "name": "ipython",
    "version": 3
   },
   "file_extension": ".py",
   "mimetype": "text/x-python",
   "name": "python",
   "nbconvert_exporter": "python",
   "pygments_lexer": "ipython3",
   "version": "3.11.5"
  }
 },
 "nbformat": 4,
 "nbformat_minor": 2
}
